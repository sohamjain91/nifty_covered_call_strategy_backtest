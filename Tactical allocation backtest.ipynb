{
 "cells": [
  {
   "cell_type": "code",
   "execution_count": 5,
   "id": "60284a72",
   "metadata": {},
   "outputs": [],
   "source": [
    "import pandas as pd\n",
    "import numpy as np\n",
    "import matplotlib.pyplot as plt\n",
    "import yfinance as yf"
   ]
  },
  {
   "cell_type": "code",
   "execution_count": null,
   "id": "ffb054d3",
   "metadata": {},
   "outputs": [],
   "source": [
    "a= yf.download('^GSPC')"
   ]
  },
  {
   "cell_type": "code",
   "execution_count": null,
   "id": "99f23bcc",
   "metadata": {},
   "outputs": [],
   "source": [
    "a"
   ]
  },
  {
   "cell_type": "code",
   "execution_count": null,
   "id": "987d972f",
   "metadata": {},
   "outputs": [],
   "source": [
    "df = pd.read_csv(\"NIFTY 50_Historical_PR_01041994to30042025.csv\")\n",
    "df.index = pd.to_datetime(df['Date'])\n",
    "df = df['Close'].to_frame()\n",
    "# df.sort_index(inplace = True)\n",
    "# df = df.resample('YS').first()\n",
    "# #df = df.loc['2021':]\n",
    "# df['ret'] = df['Close'].pct_change()\n",
    "# df['prem_rec'] = np.where(df['ret']<0, df['ret'], 0)\n",
    "# df['prem'] = -0.04\n",
    "# df['net_ret'] = df['ret'] + df['prem_rec']*-1 + df['prem']\n",
    "# df['index'] = df['ret'] + 1\n",
    "# df['strat'] = df['net_ret'] + 1\n",
    "# df['index'] = df['index'].cumprod()\n",
    "# df['strat'] = df['strat'].cumprod()\n",
    "# df = df.fillna(1)\n",
    "# df['benifit'] = (df['net_ret'] - df['ret'])*100\n",
    "df"
   ]
  },
  {
   "cell_type": "code",
   "execution_count": null,
   "id": "552e0d87",
   "metadata": {},
   "outputs": [],
   "source": [
    "df['benifit'].plot(kind = 'bar')"
   ]
  },
  {
   "cell_type": "code",
   "execution_count": null,
   "id": "0021a7c9",
   "metadata": {},
   "outputs": [],
   "source": [
    "df[['ret','net_ret']].plot(kind = 'bar')"
   ]
  },
  {
   "cell_type": "code",
   "execution_count": null,
   "id": "1bfc2df4",
   "metadata": {},
   "outputs": [],
   "source": [
    "df[['index','strat']].plot()"
   ]
  },
  {
   "cell_type": "code",
   "execution_count": null,
   "id": "af32c1d5",
   "metadata": {},
   "outputs": [],
   "source": [
    "df = pd.read_csv(\"NIFTY 50_Historical_PR_01041994to30042025.csv\")\n",
    "df.index = pd.to_datetime(df['Date'])\n",
    "df = df['Close'].to_frame()\n",
    "df.sort_index(inplace = True)\n",
    "df = df.resample('YS').first()\n",
    "df['ret'] = df['Close'].pct_change()\n",
    "#df.dropna(inplace=True)\n",
    "df['call_prem'] = 1+ (np.maximum(df['ret']-0.1,-0.1)*3)\n",
    "df['ret_net'] = df['call_prem'].cumprod()\n",
    "df['real_nav'] = df['ret']+1\n",
    "df['real_nav'] = df['real_nav'].cumprod()\n",
    "df.fillna(1, inplace=True)\n",
    "df"
   ]
  },
  {
   "cell_type": "code",
   "execution_count": null,
   "id": "0d7609a3",
   "metadata": {},
   "outputs": [],
   "source": [
    "df[['ret_net','real_nav']].plot()"
   ]
  },
  {
   "cell_type": "code",
   "execution_count": null,
   "id": "02fc3ddc",
   "metadata": {},
   "outputs": [],
   "source": [
    "df = pd.read_csv(\"NIFTY 50_Historical_PR_01041994to30042025.csv\")\n",
    "df.index = pd.to_datetime(df['Date'])\n",
    "df = df['Close'].to_frame()\n",
    "df.sort_index(inplace = True)\n",
    "\n",
    "#df=df.loc['2014':]\n",
    "\n",
    "df['ret'] = np.log(df['Close']/df['Close'].shift())\n",
    "df['ma'] = df['Close'].rolling(50).mean()\n",
    "df['position'] = np.where(df['Close']>df['ma'],1,0)\n",
    "df['strat_ret'] = df['ret'] * df['position'].shift() * 2\n",
    "df.dropna(inplace = True)\n",
    "df['index'] = np.exp(df['ret'].cumsum())\n",
    "df['strat'] = np.exp(df['strat_ret'].cumsum())\n",
    "\n",
    "\n",
    "df['index_roll_5'] = ((df['index']/df['index'].shift(252*5))**(1/5)-1)*100\n",
    "df['start_roll_5'] = ((df['strat']/df['strat'].shift(252*5))**(1/5)-1)*100\n",
    "\n",
    "df['index_dd'] = (df['index'] - df['index'].cummax())/df['index'].cummax()\n",
    "df['strat_dd'] = (df['strat'] - df['strat'].cummax())/df['strat'].cummax()\n",
    "\n"
   ]
  },
  {
   "cell_type": "code",
   "execution_count": null,
   "id": "255d0ba2",
   "metadata": {},
   "outputs": [],
   "source": [
    "# Plot both lines\n",
    "df[['index_roll_5', 'start_roll_5']].plot(figsize = (12,8))\n",
    "\n",
    "# Fill the area where start_roll_5 < index_roll_5\n",
    "plt.fill_between(\n",
    "    df.index,\n",
    "    -10,\n",
    "    50,\n",
    "    where=(df['start_roll_5'] < df['index_roll_5']),\n",
    "    interpolate=True,\n",
    "    color='red',\n",
    "    alpha=0.3,\n",
    "    label='Strategy underperforms Index'\n",
    ")\n",
    "\n",
    "plt.legend()\n",
    "plt.show()"
   ]
  },
  {
   "cell_type": "code",
   "execution_count": null,
   "id": "66aaee6e",
   "metadata": {},
   "outputs": [],
   "source": [
    "df[['index','strat']].plot()"
   ]
  },
  {
   "cell_type": "code",
   "execution_count": null,
   "id": "e82c9c51",
   "metadata": {},
   "outputs": [],
   "source": [
    "df[['index_dd','strat_dd']].plot()"
   ]
  },
  {
   "cell_type": "code",
   "execution_count": 13,
   "id": "b8b0aef8",
   "metadata": {},
   "outputs": [
    {
     "name": "stdout",
     "output_type": "stream",
     "text": [
      "YF.download() has changed argument auto_adjust default to True\n"
     ]
    },
    {
     "name": "stderr",
     "output_type": "stream",
     "text": [
      "[*********************100%***********************]  1 of 1 completed\n",
      "\n",
      "1 Failed download:\n",
      "['^GSPC']: YFRateLimitError('Too Many Requests. Rate limited. Try after a while.')\n"
     ]
    }
   ],
   "source": [
    "a = yf.download(\"^GSPC\")"
   ]
  },
  {
   "cell_type": "code",
   "execution_count": 8,
   "id": "f9357180",
   "metadata": {},
   "outputs": [
    {
     "data": {
      "text/html": [
       "<div>\n",
       "<style scoped>\n",
       "    .dataframe tbody tr th:only-of-type {\n",
       "        vertical-align: middle;\n",
       "    }\n",
       "\n",
       "    .dataframe tbody tr th {\n",
       "        vertical-align: top;\n",
       "    }\n",
       "\n",
       "    .dataframe thead th {\n",
       "        text-align: right;\n",
       "    }\n",
       "</style>\n",
       "<table border=\"1\" class=\"dataframe\">\n",
       "  <thead>\n",
       "    <tr style=\"text-align: right;\">\n",
       "      <th></th>\n",
       "      <th>Close</th>\n",
       "      <th>ma</th>\n",
       "    </tr>\n",
       "    <tr>\n",
       "      <th>Date</th>\n",
       "      <th></th>\n",
       "      <th></th>\n",
       "    </tr>\n",
       "  </thead>\n",
       "  <tbody>\n",
       "    <tr>\n",
       "      <th>1994-06-17</th>\n",
       "      <td>1302.60</td>\n",
       "      <td>1199.410</td>\n",
       "    </tr>\n",
       "    <tr>\n",
       "      <th>1994-06-20</th>\n",
       "      <td>1318.50</td>\n",
       "      <td>1202.134</td>\n",
       "    </tr>\n",
       "    <tr>\n",
       "      <th>1994-06-22</th>\n",
       "      <td>1313.80</td>\n",
       "      <td>1204.638</td>\n",
       "    </tr>\n",
       "    <tr>\n",
       "      <th>1994-06-23</th>\n",
       "      <td>1300.80</td>\n",
       "      <td>1206.596</td>\n",
       "    </tr>\n",
       "    <tr>\n",
       "      <th>1994-06-24</th>\n",
       "      <td>1287.10</td>\n",
       "      <td>1208.278</td>\n",
       "    </tr>\n",
       "    <tr>\n",
       "      <th>...</th>\n",
       "      <td>...</td>\n",
       "      <td>...</td>\n",
       "    </tr>\n",
       "    <tr>\n",
       "      <th>2025-04-23</th>\n",
       "      <td>24328.95</td>\n",
       "      <td>23012.648</td>\n",
       "    </tr>\n",
       "    <tr>\n",
       "      <th>2025-04-24</th>\n",
       "      <td>24246.70</td>\n",
       "      <td>23023.656</td>\n",
       "    </tr>\n",
       "    <tr>\n",
       "      <th>2025-04-25</th>\n",
       "      <td>24039.35</td>\n",
       "      <td>23032.376</td>\n",
       "    </tr>\n",
       "    <tr>\n",
       "      <th>2025-04-28</th>\n",
       "      <td>24328.50</td>\n",
       "      <td>23047.747</td>\n",
       "    </tr>\n",
       "    <tr>\n",
       "      <th>2025-04-29</th>\n",
       "      <td>24335.95</td>\n",
       "      <td>23066.834</td>\n",
       "    </tr>\n",
       "  </tbody>\n",
       "</table>\n",
       "<p>7653 rows × 2 columns</p>\n",
       "</div>"
      ],
      "text/plain": [
       "               Close         ma\n",
       "Date                           \n",
       "1994-06-17   1302.60   1199.410\n",
       "1994-06-20   1318.50   1202.134\n",
       "1994-06-22   1313.80   1204.638\n",
       "1994-06-23   1300.80   1206.596\n",
       "1994-06-24   1287.10   1208.278\n",
       "...              ...        ...\n",
       "2025-04-23  24328.95  23012.648\n",
       "2025-04-24  24246.70  23023.656\n",
       "2025-04-25  24039.35  23032.376\n",
       "2025-04-28  24328.50  23047.747\n",
       "2025-04-29  24335.95  23066.834\n",
       "\n",
       "[7653 rows x 2 columns]"
      ]
     },
     "execution_count": 8,
     "metadata": {},
     "output_type": "execute_result"
    }
   ],
   "source": [
    "df = pd.read_csv(\"NIFTY 50_Historical_PR_01041994to30042025.csv\")\n",
    "df.index = pd.to_datetime(df['Date'])\n",
    "df = df['Close'].to_frame()\n",
    "df.sort_index(inplace = True)\n",
    "df['ma'] = df['Close'].rolling(50).mean()\n",
    "df= df.dropna()\n",
    "\n",
    "df"
   ]
  },
  {
   "cell_type": "code",
   "execution_count": 9,
   "id": "925fd937",
   "metadata": {},
   "outputs": [],
   "source": [
    "results = []\n",
    "trade = False\n",
    "capital = 1\n",
    "leverage = 2\n",
    "for i in range(len(df)):\n",
    "    \n",
    "    if trade == False:\n",
    "        if df['Close'].iloc[i]>df['ma'].iloc[i]:\n",
    "            trade_entry_price = df['Close'].iloc[i]\n",
    "            trade_entry_date = df.index[i]\n",
    "            shares = capital/trade_entry_price\n",
    "            trade = True\n",
    "            \n",
    "    if trade==True:\n",
    "        results.append([df.index[i], \n",
    "                        capital + (df['Close'].iloc[i] - trade_entry_price)* shares* leverage])\n",
    "        \n",
    "        if df['Close'].iloc[i]<df['ma'].iloc[i]:\n",
    "            trade_exit_price = df['Close'].iloc[i]\n",
    "            profit = (trade_exit_price-trade_entry_price)*shares*leverage\n",
    "            capital+=profit\n",
    "            trade = False\n",
    "    "
   ]
  },
  {
   "cell_type": "code",
   "execution_count": 10,
   "id": "ff3d5e31",
   "metadata": {},
   "outputs": [
    {
     "data": {
      "text/html": [
       "<div>\n",
       "<style scoped>\n",
       "    .dataframe tbody tr th:only-of-type {\n",
       "        vertical-align: middle;\n",
       "    }\n",
       "\n",
       "    .dataframe tbody tr th {\n",
       "        vertical-align: top;\n",
       "    }\n",
       "\n",
       "    .dataframe thead th {\n",
       "        text-align: right;\n",
       "    }\n",
       "</style>\n",
       "<table border=\"1\" class=\"dataframe\">\n",
       "  <thead>\n",
       "    <tr style=\"text-align: right;\">\n",
       "      <th></th>\n",
       "      <th>capital</th>\n",
       "      <th>drawdown</th>\n",
       "    </tr>\n",
       "    <tr>\n",
       "      <th>date</th>\n",
       "      <th></th>\n",
       "      <th></th>\n",
       "    </tr>\n",
       "  </thead>\n",
       "  <tbody>\n",
       "    <tr>\n",
       "      <th>1994-06-17</th>\n",
       "      <td>1.000000</td>\n",
       "      <td>0.000000</td>\n",
       "    </tr>\n",
       "    <tr>\n",
       "      <th>1994-06-20</th>\n",
       "      <td>1.024413</td>\n",
       "      <td>0.000000</td>\n",
       "    </tr>\n",
       "    <tr>\n",
       "      <th>1994-06-22</th>\n",
       "      <td>1.017196</td>\n",
       "      <td>-0.007044</td>\n",
       "    </tr>\n",
       "    <tr>\n",
       "      <th>1994-06-23</th>\n",
       "      <td>0.997236</td>\n",
       "      <td>-0.026529</td>\n",
       "    </tr>\n",
       "    <tr>\n",
       "      <th>1994-06-24</th>\n",
       "      <td>0.976201</td>\n",
       "      <td>-0.047062</td>\n",
       "    </tr>\n",
       "    <tr>\n",
       "      <th>...</th>\n",
       "      <td>...</td>\n",
       "      <td>...</td>\n",
       "    </tr>\n",
       "    <tr>\n",
       "      <th>2025-04-23</th>\n",
       "      <td>699.427091</td>\n",
       "      <td>-0.075320</td>\n",
       "    </tr>\n",
       "    <tr>\n",
       "      <th>2025-04-24</th>\n",
       "      <td>694.884702</td>\n",
       "      <td>-0.081325</td>\n",
       "    </tr>\n",
       "    <tr>\n",
       "      <th>2025-04-25</th>\n",
       "      <td>683.433464</td>\n",
       "      <td>-0.096464</td>\n",
       "    </tr>\n",
       "    <tr>\n",
       "      <th>2025-04-28</th>\n",
       "      <td>699.402239</td>\n",
       "      <td>-0.075353</td>\n",
       "    </tr>\n",
       "    <tr>\n",
       "      <th>2025-04-29</th>\n",
       "      <td>699.813677</td>\n",
       "      <td>-0.074809</td>\n",
       "    </tr>\n",
       "  </tbody>\n",
       "</table>\n",
       "<p>4808 rows × 2 columns</p>\n",
       "</div>"
      ],
      "text/plain": [
       "               capital  drawdown\n",
       "date                            \n",
       "1994-06-17    1.000000  0.000000\n",
       "1994-06-20    1.024413  0.000000\n",
       "1994-06-22    1.017196 -0.007044\n",
       "1994-06-23    0.997236 -0.026529\n",
       "1994-06-24    0.976201 -0.047062\n",
       "...                ...       ...\n",
       "2025-04-23  699.427091 -0.075320\n",
       "2025-04-24  694.884702 -0.081325\n",
       "2025-04-25  683.433464 -0.096464\n",
       "2025-04-28  699.402239 -0.075353\n",
       "2025-04-29  699.813677 -0.074809\n",
       "\n",
       "[4808 rows x 2 columns]"
      ]
     },
     "execution_count": 10,
     "metadata": {},
     "output_type": "execute_result"
    }
   ],
   "source": [
    "df1 = pd.DataFrame(results, columns = ['date','capital'])\n",
    "df1.set_index('date', drop = True, inplace = True)\n",
    "df1['drawdown'] = (df1['capital'] - df1['capital'].cummax())/df1['capital'].cummax()\n",
    "df1"
   ]
  },
  {
   "cell_type": "code",
   "execution_count": 11,
   "id": "c37f1a05",
   "metadata": {},
   "outputs": [
    {
     "data": {
      "text/plain": [
       "<Axes: xlabel='date'>"
      ]
     },
     "execution_count": 11,
     "metadata": {},
     "output_type": "execute_result"
    },
    {
     "data": {
      "image/png": "[encoded data removed]",
      "text/plain": [
       "<Figure size 640x480 with 1 Axes>"
      ]
     },
     "metadata": {},
     "output_type": "display_data"
    }
   ],
   "source": [
    "df1['capital'].plot()\n",
    "#plt.yscale('log')"
   ]
  },
  {
   "cell_type": "code",
   "execution_count": 12,
   "id": "50141506",
   "metadata": {},
   "outputs": [
    {
     "data": {
      "text/plain": [
       "<Axes: xlabel='date'>"
      ]
     },
     "execution_count": 12,
     "metadata": {},
     "output_type": "execute_result"
    },
    {
     "data": {
      "image/png": "[encoded data removed]",
      "text/plain": [
       "<Figure size 640x480 with 1 Axes>"
      ]
     },
     "metadata": {},
     "output_type": "display_data"
    }
   ],
   "source": [
    "df1['drawdown'].plot()"
   ]
  }
 ],
 "metadata": {
  "kernelspec": {
   "display_name": "Python 3 (ipykernel)",
   "language": "python",
   "name": "python3"
  },
  "language_info": {
   "codemirror_mode": {
    "name": "ipython",
    "version": 3
   },
   "file_extension": ".py",
   "mimetype": "text/x-python",
   "name": "python",
   "nbconvert_exporter": "python",
   "pygments_lexer": "ipython3",
   "version": "3.11.11"
  }
 },
 "nbformat": 4,
 "nbformat_minor": 5
}
